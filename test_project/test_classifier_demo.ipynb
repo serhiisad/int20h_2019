{
 "cells": [
  {
   "cell_type": "markdown",
   "metadata": {},
   "source": [
    "***TRAINING*** (optional - cnn has been previously trained)"
   ]
  },
  {
   "cell_type": "code",
   "execution_count": null,
   "metadata": {},
   "outputs": [],
   "source": [
    "%%bash\n",
    "IMAGE_SIZE=224\n",
    "ARCHITECTURE=\"mobilenet_0.50_${IMAGE_SIZE}\"\n",
    "\n",
    "  python -m scripts.retrain   \\\n",
    "--bottleneck_dir=tf_files/bottlenecks   \\\n",
    "--how_many_training_steps=500   --model_dir=tf_files/models/   \\\n",
    "--summaries_dir=tf_files/training_summaries/\"${ARCHITECTURE}\"   \\\n",
    "--output_graph=tf_files/retrained_graph.pb   \\\n",
    "--output_labels=tf_files/retrained_labels.txt   \\\n",
    "--architecture=\"${ARCHITECTURE}\"   \\\n",
    "--image_dir=tf_files/numbers_photos"
   ]
  },
  {
   "cell_type": "markdown",
   "metadata": {},
   "source": [
    "***IMAGE TEST***\n"
   ]
  },
  {
   "cell_type": "markdown",
   "metadata": {},
   "source": [
    "\n",
    "<img src=\"src/test_images/test_six.jpg\" alt=\"none\"\n",
    "\ttitle=\"test image\" width=\"300\" height=\"300\" />"
   ]
  },
  {
   "cell_type": "code",
   "execution_count": 21,
   "metadata": {},
   "outputs": [
    {
     "name": "stdout",
     "output_type": "stream",
     "text": [
      "\n",
      "Evaluation time (one-image): 0.485s\n",
      "\n",
      "five (score=0.93429)\n",
      "four (score=0.06441)\n",
      "eight (score=0.00099)\n",
      "one (score=0.00022)\n",
      "seven (score=0.00005)\n"
     ]
    },
    {
     "name": "stderr",
     "output_type": "stream",
     "text": [
      "2019-02-10 22:52:41.472223: I tensorflow/core/platform/cpu_feature_guard.cc:141] Your CPU supports instructions that this TensorFlow binary was not compiled to use: AVX2 FMA\n"
     ]
    }
   ],
   "source": [
    "%%bash\n",
    "cd src\n",
    "python3 -m  scripts.label_image --graph=tf_files/retrained_graph.pb  --image=test_images/test_five.jpg\n",
    "\n"
   ]
  }
 ],
 "metadata": {
  "kernelspec": {
   "display_name": "Python 3",
   "language": "python",
   "name": "python3"
  },
  "language_info": {
   "codemirror_mode": {
    "name": "ipython",
    "version": 3
   },
   "file_extension": ".py",
   "mimetype": "text/x-python",
   "name": "python",
   "nbconvert_exporter": "python",
   "pygments_lexer": "ipython3",
   "version": "3.6.6"
  }
 },
 "nbformat": 4,
 "nbformat_minor": 2
}
